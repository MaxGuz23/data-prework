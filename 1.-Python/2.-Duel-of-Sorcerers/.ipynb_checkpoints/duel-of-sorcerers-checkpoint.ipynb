{
 "cells": [
  {
   "cell_type": "markdown",
   "metadata": {},
   "source": [
    "<img src=\"https://bit.ly/2VnXWr2\" width=\"100\" align=\"left\">"
   ]
  },
  {
   "cell_type": "markdown",
   "metadata": {},
   "source": [
    "# Duel of Sorcerers\n",
    "You are witnessing an epic battle between two powerful sorcerers: Gandalf and Saruman. Each sorcerer has 10 spells of variable power in their mind and they are going to throw them one after the other. The winner of the duel will be the one who wins more of those clashes between spells. Spells are represented as a list of 10 integers whose value equals the power of the spell.\n",
    "```\n",
    "gandalf = [10, 11, 13, 30, 22, 11, 10, 33, 22, 22]\n",
    "saruman = [23, 66, 12, 43, 12, 10, 44, 23, 12, 17]\n",
    "```\n",
    "For example:\n",
    "- The first clash is won by Saruman: 10 against 23.\n",
    "- The second clash is won by Saruman: 11 against 66.\n",
    "- ...\n",
    "\n",
    "You will create two variables, one for each sorcerer, where the sum of clashes won will be stored. Depending on which variable is greater at the end of the duel, you will show one of the following three results on the screen:\n",
    "* Gandalf wins\n",
    "* Saruman wins\n",
    "* Tie\n",
    "\n",
    "<img src=\"images/content_lightning_bolt_big.jpg\" width=\"400\">"
   ]
  },
  {
   "cell_type": "markdown",
   "metadata": {},
   "source": [
    "## Tools\n",
    "You don't necessarily need to use all the tools. Maybe you opt to use some of them or completely different ones, they are given to help you shape the exercise. Programming exercises can be solved in many different ways.\n",
    "\n",
    "1. Data structures: **lists, dictionaries**\n",
    "2. Loop: **for loop**\n",
    "3. Conditional statements: **if-elif-else**\n",
    "4. Functions: **range(), len(), print()**\n",
    "\n",
    "## Tasks\n",
    "\n",
    "#### 1. Create two variables called `gandalf` and `saruman` and assign them the spell power lists. Create a variable called `spells` to store the number of spells that the sorcerers cast. "
   ]
  },
  {
   "cell_type": "code",
   "execution_count": 1,
   "metadata": {},
   "outputs": [],
   "source": [
    "gandalf = [10, 11, 13, 30, 22, 11, 10, 33, 22, 22]\n",
    "saruman = [23, 66, 12, 43, 12, 10, 44, 23, 12, 17]\n",
    "\n",
    "gan_spells = 0\n",
    "sar_spells = 0"
   ]
  },
  {
   "cell_type": "markdown",
   "metadata": {},
   "source": [
    "#### 2. Create two variables called `gandalf_wins` and `saruman_wins`. Set both of them to 0. \n",
    "You will use these variables to count the number of clashes each sorcerer wins. "
   ]
  },
  {
   "cell_type": "code",
   "execution_count": 10,
   "metadata": {},
   "outputs": [],
   "source": [
    "gandalf_wins = 0\n",
    "saruman_wins = 0"
   ]
  },
  {
   "cell_type": "markdown",
   "metadata": {},
   "source": [
    "#### 3. Using the lists of spells of both sorcerers, update variables `gandalf_wins` and `saruman_wins` to count the number of times each sorcerer wins a clash. "
   ]
  },
  {
   "cell_type": "code",
   "execution_count": 12,
   "metadata": {},
   "outputs": [
    {
     "name": "stdout",
     "output_type": "stream",
     "text": [
      "Gandalf won 6 times, and saruman won 4 times\n"
     ]
    }
   ],
   "source": [
    "gandalf_wins = 0\n",
    "saruman_wins = 0\n",
    "for g, s in zip(gandalf, saruman):\n",
    "#     print(g, s)\n",
    "    if g > s:\n",
    "        gandalf_wins += 1\n",
    "    else:\n",
    "        saruman_wins += 1\n",
    "        \n",
    "print(f'Gandalf won {gandalf_wins} times, and saruman won {saruman_wins} times')"
   ]
  },
  {
   "cell_type": "markdown",
   "metadata": {},
   "source": [
    "#### 4. Who won the battle?\n",
    "Print `Gandalf wins`, `Saruman wins` or `Tie` depending on the result. "
   ]
  },
  {
   "cell_type": "code",
   "execution_count": 16,
   "metadata": {},
   "outputs": [
    {
     "name": "stdout",
     "output_type": "stream",
     "text": [
      "Gandalf won 6 times, Saruman won 4      times, and there were 0 ties\n"
     ]
    }
   ],
   "source": [
    "gandalf_wins = 0\n",
    "saruman_wins = 0\n",
    "ties = 0\n",
    "for g, s in zip(gandalf, saruman):\n",
    "#     print(g, s)\n",
    "    if g > s:\n",
    "        gandalf_wins += 1\n",
    "    elif g < s:\n",
    "        saruman_wins += 1\n",
    "    else:\n",
    "        ties += 1\n",
    "        \n",
    "print(f'Gandalf won {gandalf_wins} times, Saruman won {saruman_wins}\\\n",
    "      times, and there were {ties} ties')"
   ]
  },
  {
   "cell_type": "markdown",
   "metadata": {},
   "source": [
    "## Bonus\n",
    "\n",
    "In this bonus challenge, you'll need to check the winner of the battle but this time, a sorcerer wins if he succeeds in winning 3 spell clashes in a row.\n",
    "\n",
    "Also, the spells now have a name and there is a dictionary that associates that name to a power.\n",
    "\n",
    "```\n",
    "POWER = {\n",
    "    'Fireball': 50, \n",
    "    'Lightning bolt': 40, \n",
    "    'Magic arrow': 10, \n",
    "    'Black Tentacles': 25, \n",
    "    'Contagion': 45\n",
    "}\n",
    "\n",
    "gandalf = ['Fireball', 'Lightning bolt', 'Lightning bolt', 'Magic arrow', 'Fireball', \n",
    "           'Magic arrow', 'Lightning bolt', 'Fireball', 'Fireball', 'Fireball']\n",
    "saruman = ['Contagion', 'Contagion', 'Black Tentacles', 'Fireball', 'Black Tentacles', \n",
    "           'Lightning bolt', 'Magic arrow', 'Contagion', 'Magic arrow', 'Magic arrow']\n",
    "```\n",
    "\n",
    "#### 1. Create variables `POWER`, `gandalf` and `saruman` as seen above. Create a variable called `spells` to store the number of spells that the sorcerers cast. "
   ]
  },
  {
   "cell_type": "code",
   "execution_count": 17,
   "metadata": {},
   "outputs": [],
   "source": [
    "POWER = {\n",
    "    'Fireball': 50, \n",
    "    'Lightning bolt': 40, \n",
    "    'Magic arrow': 10, \n",
    "    'Black Tentacles': 25, \n",
    "    'Contagion': 45\n",
    "}\n",
    "\n",
    "gandalf = ['Fireball', 'Lightning bolt', 'Lightning bolt', 'Magic arrow', 'Fireball', \n",
    "           'Magic arrow', 'Lightning bolt', 'Fireball', 'Fireball', 'Fireball']\n",
    "saruman = ['Contagion', 'Contagion', 'Black Tentacles', 'Fireball', 'Black Tentacles', \n",
    "           'Lightning bolt', 'Magic arrow', 'Contagion', 'Magic arrow', 'Magic arrow']"
   ]
  },
  {
   "cell_type": "markdown",
   "metadata": {},
   "source": [
    "#### 2. Create two variables called `gandalf_wins` and `saruman_wins`. Set both of them to 0. "
   ]
  },
  {
   "cell_type": "code",
   "execution_count": 18,
   "metadata": {},
   "outputs": [],
   "source": [
    "gandalf_wins = 0\n",
    "saruman_wins = 0"
   ]
  },
  {
   "cell_type": "markdown",
   "metadata": {},
   "source": [
    "#### 3. Create two variables called `gandalf_power` and `saruman_power` to store the list of spell powers of each sorcerer."
   ]
  },
  {
   "cell_type": "code",
   "execution_count": 19,
   "metadata": {},
   "outputs": [],
   "source": [
    "gandalf_power = 0\n",
    "saruman_power = 0"
   ]
  },
  {
   "cell_type": "markdown",
   "metadata": {},
   "source": [
    "#### 4. The battle starts! Using the variables you've created above, code the execution of spell clashes. Remember that a sorcerer wins if he succeeds in winning 3 spell clashes in a row. \n",
    "If a clash ends up in a tie, the counter of wins in a row is not restarted to 0. Remember to print who is the winner of the battle. "
   ]
  },
  {
   "cell_type": "code",
   "execution_count": 30,
   "metadata": {},
   "outputs": [
    {
     "name": "stdout",
     "output_type": "stream",
     "text": [
      "Gandalf wiwns\n"
     ]
    }
   ],
   "source": [
    "# Assign spell power lists to variables\n",
    "gandalf_score = 0\n",
    "saruman_score = 0\n",
    "gandalf_wins = []\n",
    "saruman_wins = []\n",
    "tie_score = 0\n",
    "spells = 0\n",
    "\n",
    "gandalf_power = []\n",
    "saruman_power = []\n",
    "# list(zip(gandalf, saruman))\n",
    "\n",
    "for gan, sar in zip(gandalf, saruman):\n",
    "    \n",
    "    if POWER[gan] > POWER[sar]:\n",
    "        gandalf_wins.append('win')\n",
    "        saruman_wins.append('lose')\n",
    "        gandalf_score += 1\n",
    "        \n",
    "    elif POWER[gan] < POWER[sar]:\n",
    "        saruman_wins.append('win')\n",
    "        gandalf_wins.append('lose')\n",
    "        saruman_score += 1\n",
    "        \n",
    "    else:\n",
    "        \n",
    "        tie_score += 1\n",
    "\n",
    "past_results =[]        \n",
    "        \n",
    "for match, result in enumerate(gandalf_wins):\n",
    "    past_results.append(result)\n",
    "    if match > 0:\n",
    "        if result == past_results[match -1 ] and result == 'lose': # anterior\n",
    "            if result == past_results[match -2 ]: # antes del anterior\n",
    "                print('Gandalf wiwns')\n",
    "                break\n",
    "            else:\n",
    "                pass \n",
    "for match, result in enumerate(saruman_wins):\n",
    "    past_results.append(result)\n",
    "    if match > 0:\n",
    "        if result == past_results[match -1 ] and result == 'lose': # anterior\n",
    "            if result == past_results[match -2 ]: # antes del anterior\n",
    "                print('Saruman wiwns')\n",
    "                break\n",
    "            else:\n",
    "                pass       \n",
    "        \n",
    "# print('Gandalf score is:', gandalf_score)\n",
    "# print('Saruman score is:', saruman_score)\n",
    "# print('Number of ties:', tie_score)\n",
    "\n",
    "# print(gandalf_wins)\n",
    "# print(saruman_wins)"
   ]
  },
  {
   "cell_type": "markdown",
   "metadata": {},
   "source": [
    "#### 5. Find the average spell power of Gandalf and Saruman. "
   ]
  },
  {
   "cell_type": "code",
   "execution_count": 37,
   "metadata": {},
   "outputs": [],
   "source": [
    "import numpy as np"
   ]
  },
  {
   "cell_type": "code",
   "execution_count": 43,
   "metadata": {},
   "outputs": [
    {
     "name": "stdout",
     "output_type": "stream",
     "text": [
      "39.0\n",
      "30.5\n"
     ]
    }
   ],
   "source": [
    "gandalf_spells = [POWER[spell] for spell in gandalf] \n",
    "saruman_spells = [POWER[spell] for spell in saruman]\n",
    "mean_gandalf = np.mean(gandalf_spells)\n",
    "mean_saruman = np.mean(saruman_spells)\n",
    "print(mean_gandalf)\n",
    "print(mean_saruman)\n"
   ]
  },
  {
   "cell_type": "markdown",
   "metadata": {},
   "source": [
    "#### 6. Find the standard deviation of the spell power of Gandalf and Saruman. "
   ]
  },
  {
   "cell_type": "code",
   "execution_count": 44,
   "metadata": {},
   "outputs": [
    {
     "name": "stdout",
     "output_type": "stream",
     "text": [
      "15.132745950421556\n",
      "15.56438241627338\n"
     ]
    }
   ],
   "source": [
    "gandalf_std = np.std(gandalf_spells)\n",
    "saruman_std = np.std(saruman_spells)\n",
    "print(gandalf_std)\n",
    "print(saruman_std)"
   ]
  },
  {
   "cell_type": "code",
   "execution_count": null,
   "metadata": {},
   "outputs": [],
   "source": []
  }
 ],
 "metadata": {
  "kernelspec": {
   "display_name": "Python 3",
   "language": "python",
   "name": "python3"
  },
  "language_info": {
   "codemirror_mode": {
    "name": "ipython",
    "version": 3
   },
   "file_extension": ".py",
   "mimetype": "text/x-python",
   "name": "python",
   "nbconvert_exporter": "python",
   "pygments_lexer": "ipython3",
   "version": "3.8.8"
  }
 },
 "nbformat": 4,
 "nbformat_minor": 4
}
