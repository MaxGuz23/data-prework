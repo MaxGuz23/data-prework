{
 "cells": [
  {
   "cell_type": "markdown",
   "metadata": {},
   "source": [
    "<img src=\"https://bit.ly/2VnXWr2\" width=\"100\" align=\"left\">"
   ]
  },
  {
   "cell_type": "markdown",
   "metadata": {},
   "source": [
    "# Temperature Sensor\n",
    "\n",
    "There is a temperature sensor in the processor of your company's server. The company wants to analyze the data provided by the sensor to decide if they should change the cooling system for a better one. As changing the cooling system is expensive and you are an excellent data analyst, you can't make a decision without basis.\n",
    "\n",
    "## Tools\n",
    "You don't necessarily need to use all the tools. Maybe you opt to use some of them or completely different ones, they are given to help you shape the exercise. Programming exercises can be solved in many different ways.\n",
    "1. Data structures: **lists**\n",
    "2. Loops: **list comprehension**\n",
    "3. Functions: **min, max, print, len**\n",
    "4. Conditional statements: **if-elif-else**\n",
    "\n",
    "## Tasks\n",
    "The temperatures measured throughout the 24 hours of a day are:"
   ]
  },
  {
   "cell_type": "code",
   "execution_count": 1,
   "metadata": {},
   "outputs": [],
   "source": [
    "temperatures_C = [33, 66, 65, 0, 59, 60, 62, 64, 70, 76, 80, 81, 80, 83, 90, 79, 61, 53, 50, 49, 53, 48, 45, 39]"
   ]
  },
  {
   "cell_type": "markdown",
   "metadata": {},
   "source": [
    "The first element of the list is the temperature at 12am, the second element is the temperature at 1am, and so on. \n",
    "\n",
    "The company has decided that if one of the following events occurs, then the cooling system needs to be replaced for a new one to avoid damaging the processor.\n",
    "* More than 4 temperatures are greater than or equal to 70ºC.\n",
    "* Any temperature is above 80ºC.\n",
    "* The average temperature exceeds 65ºC.\n",
    "\n",
    "Follow the steps so that you can make the decision.\n",
    "\n",
    "#### 1. Find the minimum temperature of the day and store it in a variable."
   ]
  },
  {
   "cell_type": "code",
   "execution_count": 2,
   "metadata": {},
   "outputs": [
    {
     "data": {
      "text/plain": [
       "0"
      ]
     },
     "execution_count": 2,
     "metadata": {},
     "output_type": "execute_result"
    }
   ],
   "source": [
    "minimum = min(temperatures_C)\n",
    "minimum"
   ]
  },
  {
   "cell_type": "markdown",
   "metadata": {},
   "source": [
    "#### 2. Find the maximum temperature of the day and store it in a variable."
   ]
  },
  {
   "cell_type": "code",
   "execution_count": 3,
   "metadata": {},
   "outputs": [
    {
     "data": {
      "text/plain": [
       "90"
      ]
     },
     "execution_count": 3,
     "metadata": {},
     "output_type": "execute_result"
    }
   ],
   "source": [
    "maximum = max(temperatures_C)\n",
    "maximum"
   ]
  },
  {
   "cell_type": "markdown",
   "metadata": {},
   "source": [
    "#### 3. Create a list with the temperatures that are greater than or equal to 70ºC. Store it in a variable."
   ]
  },
  {
   "cell_type": "code",
   "execution_count": 4,
   "metadata": {},
   "outputs": [
    {
     "data": {
      "text/plain": [
       "[76, 80, 81, 80, 83, 90, 79]"
      ]
     },
     "execution_count": 4,
     "metadata": {},
     "output_type": "execute_result"
    }
   ],
   "source": [
    "grater_than_70 = [temp for temp in temperatures_C if temp > 70]\n",
    "grater_than_70"
   ]
  },
  {
   "cell_type": "markdown",
   "metadata": {},
   "source": [
    "#### 4. Find the average temperature of the day and store it in a variable."
   ]
  },
  {
   "cell_type": "code",
   "execution_count": 5,
   "metadata": {},
   "outputs": [],
   "source": [
    "import numpy as np"
   ]
  },
  {
   "cell_type": "code",
   "execution_count": 7,
   "metadata": {},
   "outputs": [
    {
     "data": {
      "text/plain": [
       "60.25"
      ]
     },
     "execution_count": 7,
     "metadata": {},
     "output_type": "execute_result"
    }
   ],
   "source": [
    "avg = np.mean(temperatures_C)\n",
    "avg"
   ]
  },
  {
   "cell_type": "markdown",
   "metadata": {},
   "source": [
    "#### 5. Imagine that there was a sensor failure at 3am and the data for that specific hour was not recorded. How would you estimate the missing value? Replace the current value of the list at 3am for an estimation. "
   ]
  },
  {
   "cell_type": "code",
   "execution_count": 13,
   "metadata": {},
   "outputs": [
    {
     "name": "stdout",
     "output_type": "stream",
     "text": [
      "[33, 66, 65, 62, 59, 60, 62, 64, 70, 76, 80, 81, 80, 83, 90, 79, 61, 53, 50, 49, 53, 48, 45, 39]\n"
     ]
    }
   ],
   "source": [
    "temperatures_C = [33, 66, 65, 0, 59, 60, 62, 64, 70, 76, 80, 81, 80, 83, 90, 79, 61, 53, 50, 49, 53, 48, 45, 39]\n",
    "temperatures_C[3] = int((temperatures_C[2] + temperatures_C[4])/2)\n",
    "print(temperatures_C)"
   ]
  },
  {
   "cell_type": "markdown",
   "metadata": {},
   "source": [
    "#### 6. Bonus: the maintenance staff is from the United States and does not understand the international metric system. Help them by converting the temperatures from Celsius to Fahrenheit.\n",
    "To know more about temperature conversion check this [link](https://en.wikipedia.org/wiki/Conversion_of_units_of_temperature).\n",
    "\n",
    "**Formula**: \n",
    "\n",
    "$F = 1.8 * C + 32$"
   ]
  },
  {
   "cell_type": "code",
   "execution_count": 57,
   "metadata": {},
   "outputs": [
    {
     "name": "stdout",
     "output_type": "stream",
     "text": [
      "[91, 150, 149, 143, 138, 140, 143, 147, 158, 168, 176, 177, 176, 181, 194, 174, 141, 127, 122, 120, 127, 118, 113, 102]\n"
     ]
    }
   ],
   "source": [
    "def c_to_f(c):\n",
    "    \"\"\"Function that converts a temperature from Celsius to Fahrenheit.\"\"\"\n",
    "    return int(1.8*c+32)\n",
    "\n",
    "temperatures_F = [c_to_f(temp) for temp in temperatures_C]\n",
    "print(temperatures_F)"
   ]
  },
  {
   "cell_type": "markdown",
   "metadata": {},
   "source": [
    "#### 7. Make a decision!\n",
    "Now it's time to make a decision taking into account what you have seen until now. \n",
    "\n",
    "Remember that if one of the following events occurs, then the cooling system needs to be replaced for a new one to avoid damaging the processor.\n",
    "* More than 4 temperatures are greater than or equal to 70ºC.\n",
    "* Any temperature is above 80ºC.\n",
    "* The average temperature exceeds 65ºC.\n",
    "\n",
    "#### To make your decision, check if any of the three conditions above is met. You might need to use some of the variables you created in steps 1 to 6. Print a message to show if the cooling system needs to be changed or not."
   ]
  },
  {
   "cell_type": "code",
   "execution_count": 23,
   "metadata": {},
   "outputs": [
    {
     "name": "stdout",
     "output_type": "stream",
     "text": [
      "[33, 66, 65, 62, 59, 60, 62, 64, 70, 76, 80, 81, 80, 83, 90, 79, 61, 53, 50, 49, 53, 48, 45, 39]\n"
     ]
    }
   ],
   "source": [
    "print(temperatures_C)"
   ]
  },
  {
   "cell_type": "code",
   "execution_count": 31,
   "metadata": {},
   "outputs": [
    {
     "name": "stdout",
     "output_type": "stream",
     "text": [
      "Warning! server was running at 70ºC for 3 consecutive hours, Time: 11\n",
      "Warning! server at 81ºC, Time: 11\n",
      "\n",
      "Warning! server was running at 70ºC for 3 consecutive hours, Time: 12\n",
      "Warning! server was running at 70ºC for 3 consecutive hours, Time: 13\n",
      "Warning! server at 83ºC, Time: 13\n",
      "\n",
      "Warning! server average temperature at 66.1ºC, Time: 13\n",
      "Warning! server was running at 70ºC for 3 consecutive hours, Time: 14\n",
      "Warning! server at 90ºC, Time: 14\n",
      "\n",
      "Warning! server average temperature at 68.1ºC, Time: 14\n",
      "Warning! server was running at 70ºC for 3 consecutive hours, Time: 15\n",
      "Warning! server average temperature at 68.1ºC, Time: 15\n",
      "Warning! server average temperature at 66.6ºC, Time: 16\n",
      "Warning! server average temperature at 65.4ºC, Time: 17\n"
     ]
    }
   ],
   "source": [
    "past_temp = []\n",
    "for i,temp in list(enumerate(temperatures_C)):\n",
    "    if i > 1:\n",
    "        past_temp.append(temp)\n",
    "    if i > 3:\n",
    "        if temperatures_C[i] > 70 and temperatures_C[i-1] > 70 and temperatures_C[i-2] > 70:\n",
    "            print(f'Warning! server was running at 70ºC for 3 consecutive hours, Time: {i}')\n",
    "    if temp > 80:\n",
    "        print(f'Warning! server at {temp}ºC, Time: {i}\\n')\n",
    "    if ((temp + sum(past_temp))/(i+1)) > 65:\n",
    "        print(f'Warning! server average temperature at {\"{:.1f}\".format((temp + sum(past_temp))/(i+1))}ºC, Time: {i}')\n",
    "    \n",
    "    "
   ]
  },
  {
   "cell_type": "markdown",
   "metadata": {},
   "source": [
    "## Bonus\n",
    "\n",
    "The company has decided that the decision you made is not valid. They want you to analyze the data again but this time, the conditions that need to be met in order to change the cooling system are different.\n",
    "\n",
    "This time, if one of the following events occurs, then the cooling system needs to be replaced:\n",
    "* The temperature is greater than 70ºC during more than 4 consecutive hours.\n",
    "* Any temperature is above 80ºC.\n",
    "* The average temperature exceeds 65ºC.\n",
    "\n",
    "Follow the steps so that you can make the decision.\n",
    "\n",
    "#### 1. Create a list with the hours where the temperature is greater than 70ºC. Store it in a variable."
   ]
  },
  {
   "cell_type": "code",
   "execution_count": 33,
   "metadata": {},
   "outputs": [
    {
     "data": {
      "text/plain": [
       "[9, 10, 11, 12, 13, 14, 15]"
      ]
     },
     "execution_count": 33,
     "metadata": {},
     "output_type": "execute_result"
    }
   ],
   "source": [
    "time_grater_70 = [hour for hour, temp in enumerate(temperatures_C) if temp > 70]\n",
    "time_grater_70"
   ]
  },
  {
   "cell_type": "markdown",
   "metadata": {},
   "source": [
    "#### 2. Check if the list you created in step 1 has more than 4 consecutive hours. "
   ]
  },
  {
   "cell_type": "code",
   "execution_count": 40,
   "metadata": {},
   "outputs": [
    {
     "name": "stdout",
     "output_type": "stream",
     "text": [
      "We have 4 consecutive 4 hours\n"
     ]
    }
   ],
   "source": [
    "counter = 0\n",
    "\n",
    "for i, hour in list(enumerate(time_grater_70)):\n",
    "    if i > 2:\n",
    "        if hour - time_grater_70[i-1] == 1 and hour - time_grater_70[i-2] and hour - time_grater_70[i-3]:\n",
    "            counter += 1\n",
    "            \n",
    "print(f'We have {counter} consecutive 4 hours')"
   ]
  },
  {
   "cell_type": "markdown",
   "metadata": {},
   "source": [
    "#### 3. Make the decision!\n",
    "To make your decision, check if any of the three conditions is met. Print a message to show if the cooling system needs to be changed or not."
   ]
  },
  {
   "cell_type": "code",
   "execution_count": 41,
   "metadata": {},
   "outputs": [
    {
     "name": "stdout",
     "output_type": "stream",
     "text": [
      "Warning! server at 81ºC, Time: 11\n",
      "\n",
      "Warning! server was running at 70ºC for 4 consecutive hours, Time: 12\n",
      "Warning! server was running at 70ºC for 4 consecutive hours, Time: 13\n",
      "Warning! server at 83ºC, Time: 13\n",
      "\n",
      "Warning! server average temperature at 66.1ºC, Time: 13\n",
      "Warning! server was running at 70ºC for 4 consecutive hours, Time: 14\n",
      "Warning! server at 90ºC, Time: 14\n",
      "\n",
      "Warning! server average temperature at 68.1ºC, Time: 14\n",
      "Warning! server was running at 70ºC for 4 consecutive hours, Time: 15\n",
      "Warning! server average temperature at 68.1ºC, Time: 15\n",
      "Warning! server average temperature at 66.6ºC, Time: 16\n",
      "Warning! server average temperature at 65.4ºC, Time: 17\n"
     ]
    }
   ],
   "source": [
    "past_temp = []\n",
    "for i,temp in list(enumerate(temperatures_C)):\n",
    "    if i > 1:\n",
    "        past_temp.append(temp)\n",
    "    if i > 3:\n",
    "        if temp > 70 and temperatures_C[i-1] > 70 and temperatures_C[i-2] > 70 and temperatures_C[i-3] > 70:\n",
    "            print(f'Warning! server was running at 70ºC for 4 consecutive hours, Time: {i}')\n",
    "    if temp > 80:\n",
    "        print(f'Warning! server at {temp}ºC, Time: {i}\\n')\n",
    "    if ((temp + sum(past_temp))/(i+1)) > 65:\n",
    "        print(f'Warning! server average temperature at {\"{:.1f}\".format((temp + sum(past_temp))/(i+1))}ºC, Time: {i}')"
   ]
  },
  {
   "cell_type": "markdown",
   "metadata": {},
   "source": [
    "#### 4. Find the average value of the temperature lists (ºC and ºF). What is the relation between both average values?"
   ]
  },
  {
   "cell_type": "code",
   "execution_count": 67,
   "metadata": {},
   "outputs": [
    {
     "name": "stdout",
     "output_type": "stream",
     "text": [
      "The average temperatures are: 62.833333333333336 ºC and 144.79166666666666ºF\n",
      "The average in ºC converted to ºF equals: 145\n"
     ]
    }
   ],
   "source": [
    "avg_C = np.mean(temperatures_C)\n",
    "avg_F = np.mean(temperatures_F)\n",
    "\n",
    "print(f'The average temperatures are: {avg_C} ºC and {avg_F}ºF')\n",
    "print(f'The average in ºC converted to ºF equals: {c_to_f(avg_C)}')"
   ]
  },
  {
   "cell_type": "markdown",
   "metadata": {},
   "source": [
    "#### 5. Find the standard deviation of the temperature lists (ºC and ºF). What is the relation between both standard deviations?"
   ]
  },
  {
   "cell_type": "code",
   "execution_count": 68,
   "metadata": {},
   "outputs": [
    {
     "name": "stdout",
     "output_type": "stream",
     "text": [
      "The average temperatures are: 14.633485192833897 ºC and 26.33435520169212ºF\n",
      "The average in ºC converted to ºF equals: 58\n"
     ]
    }
   ],
   "source": [
    "std_C = np.std(temperatures_C)\n",
    "std_F = np.std(temperatures_F)\n",
    "\n",
    "print(f'The standandard deviation of the temperatures are: {std_C} ºC and {std_F}ºF')\n",
    "print(f'The standandard deviation in ºC converted to ºF equals: {c_to_f(std_C)}')"
   ]
  },
  {
   "cell_type": "code",
   "execution_count": null,
   "metadata": {},
   "outputs": [],
   "source": []
  }
 ],
 "metadata": {
  "kernelspec": {
   "display_name": "Python 3",
   "language": "python",
   "name": "python3"
  },
  "language_info": {
   "codemirror_mode": {
    "name": "ipython",
    "version": 3
   },
   "file_extension": ".py",
   "mimetype": "text/x-python",
   "name": "python",
   "nbconvert_exporter": "python",
   "pygments_lexer": "ipython3",
   "version": "3.8.8"
  }
 },
 "nbformat": 4,
 "nbformat_minor": 4
}
